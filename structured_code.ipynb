{
 "cells": [
  {
   "cell_type": "code",
   "execution_count": 2,
   "metadata": {},
   "outputs": [],
   "source": [
    "import os\n",
    "import spacy\n",
    "import pinecone\n",
    "from langchain.document_loaders import PyPDFLoader\n",
    "from langchain.text_splitter import RecursiveCharacterTextSplitter\n",
    "from langchain.vectorstores import Pinecone\n",
    "from tqdm.autonotebook import tqdm\n",
    "from sentence_transformers import SentenceTransformer"
   ]
  },
  {
   "cell_type": "markdown",
   "metadata": {},
   "source": [
    "With tranformer model embeddings"
   ]
  },
  {
   "cell_type": "code",
   "execution_count": 12,
   "metadata": {},
   "outputs": [],
   "source": [
    "class Solution:\n",
    "    def __init__(self,model_name,embeddings) -> None:\n",
    "        self.model_name=model_name\n",
    "        self.embeddings=embeddings\n",
    "        \n",
    "    def definemodel(self):\n",
    "        model = SentenceTransformer(self.model_name, device='cpu') \n",
    "        return model\n",
    "\n",
    "    def load_file(self,filepath):\n",
    "        os.chdir((\"./\"))\n",
    "        file_loader = PyPDFLoader(os.path.join(os.getcwd(),filepath))\n",
    "        documents = file_loader.load()\n",
    "        text_splitter = RecursiveCharacterTextSplitter(chunk_size=700, chunk_overlap=30)\n",
    "        chunks = text_splitter.split_documents(documents)\n",
    "        print(len(chunks))\n",
    "        return chunks\n",
    "\n",
    "    def create_embed(self,model,chunks):\n",
    "        for i in range(len(chunks)):\n",
    "            chunk_embedding=model.encode(chunks[i].page_content).tolist()\n",
    "            if len(chunk_embedding)!=0:\n",
    "                self.embeddings['id'].append(i)\n",
    "                self.embeddings['embed'].append(list(chunk_embedding))\n",
    "        print(len(self.embeddings['id']))\n",
    "\n",
    "    def vectordb(self,key,chunks):\n",
    "        import os\n",
    "        from pinecone import Pinecone as pc\n",
    "        p = pc(api_key=key)\n",
    "        index=p.Index(\"chatbot\")\n",
    "        print(index.describe_index_stats())\n",
    "        for i in range(len(chunks)):\n",
    "            index.upsert(vectors=[{\n",
    "            \"id\": str(self.embeddings[\"id\"][i]),\n",
    "            \"values\": self.embeddings[\"embed\"][i]\n",
    "            }],\n",
    "            namespace=\"data_ml\")\n",
    "        print(index.describe_index_stats())\n",
    "        return index\n",
    "    def askquestion(self, ques, index, model,chunks):\n",
    "        \n",
    "        query_embedding = model.encode(ques).tolist()\n",
    "        xc = index.query(vector=query_embedding, top_k=3,namespace='data_ml')\n",
    "        for i in xc['matches']:\n",
    "            if i['score']<0.3:\n",
    "                print(\"I don't know the answer\")\n",
    "                break\n",
    "            else:\n",
    "                doc_id=i['id']\n",
    "                print(chunks[int(doc_id)])  "
   ]
  },
  {
   "cell_type": "code",
   "execution_count": 1,
   "metadata": {},
   "outputs": [
    {
     "ename": "NameError",
     "evalue": "name 'Solution' is not defined",
     "output_type": "error",
     "traceback": [
      "\u001b[1;31m---------------------------------------------------------------------------\u001b[0m",
      "\u001b[1;31mNameError\u001b[0m                                 Traceback (most recent call last)",
      "Cell \u001b[1;32mIn[1], line 3\u001b[0m\n\u001b[0;32m      1\u001b[0m ques\u001b[38;5;241m=\u001b[39m\u001b[38;5;124m\"\u001b[39m\u001b[38;5;124mFor what all tasks, ML algorithms are useful?\u001b[39m\u001b[38;5;124m\"\u001b[39m\n\u001b[1;32m----> 3\u001b[0m sol\u001b[38;5;241m=\u001b[39mSolution(model_name,embeddings)\n\u001b[0;32m      4\u001b[0m model\u001b[38;5;241m=\u001b[39msol\u001b[38;5;241m.\u001b[39mdefinemodel()\n\u001b[0;32m      5\u001b[0m chunks\u001b[38;5;241m=\u001b[39msol\u001b[38;5;241m.\u001b[39mload_file(filepath)\n",
      "\u001b[1;31mNameError\u001b[0m: name 'Solution' is not defined"
     ]
    }
   ],
   "source": [
    "\n",
    "ques=\"For what all tasks, ML algorithms are useful?\"\n",
    "\n",
    "sol=Solution(model_name,embeddings)\n",
    "model=sol.definemodel()\n",
    "chunks=sol.load_file(filepath)\n",
    "sol.create_embed(model,chunks)\n",
    "index=sol.vectordb(key, chunks)\n",
    "sol.askquestion(ques,index,model,chunks)\n",
    "\n",
    "\n",
    "\n",
    "\n",
    "\n",
    "\n",
    "\n",
    "\n",
    "\n",
    "\n",
    "\n"
   ]
  },
  {
   "cell_type": "code",
   "execution_count": 15,
   "metadata": {},
   "outputs": [
    {
     "data": {
      "text/plain": [
       "{'dimension': 384,\n",
       " 'index_fullness': 0.00071,\n",
       " 'namespaces': {'data_ml': {'vector_count': 71}},\n",
       " 'total_vector_count': 71}"
      ]
     },
     "execution_count": 15,
     "metadata": {},
     "output_type": "execute_result"
    }
   ],
   "source": [
    "import pinecone\n",
    "import os\n",
    "from pinecone import Pinecone as pc\n",
    "p = pc(    api_key=\"3399662c-37e6-43fa-8f62-706d2ba6050f\")\n",
    "index=p.Index(\"chatbot\")\n",
    "\n",
    "# index = Pinecone.from_documents(chunks, embeddings, index_name=\"chatbot-ai\")\n",
    "index.describe_index_stats()\n"
   ]
  },
  {
   "cell_type": "code",
   "execution_count": null,
   "metadata": {},
   "outputs": [
    {
     "data": {
      "text/plain": [
       "{'matches': [{'id': '7', 'score': 0.617339313, 'values': []},\n",
       "             {'id': '30', 'score': 0.599694, 'values': []},\n",
       "             {'id': '67', 'score': 0.533954561, 'values': []}],\n",
       " 'namespace': 'data_ml',\n",
       " 'usage': {'read_units': 5}}"
      ]
     },
     "execution_count": 46,
     "metadata": {},
     "output_type": "execute_result"
    }
   ],
   "source": [
    "question=\"How federated learning is better than machine learning?\"\n",
    "query_embedding = model.encode(question).tolist()\n",
    "# query_embedding=list(map(float, query_embedding))\n",
    "xc = index.query(vector=query_embedding, top_k=3, namespace='data_ml')\n",
    "xc"
   ]
  },
  {
   "cell_type": "code",
   "execution_count": null,
   "metadata": {},
   "outputs": [
    {
     "name": "stdout",
     "output_type": "stream",
     "text": [
      "page_content='algorithms work in three different versions viz., supervised learning, unsupervised learning, and \\nreinforcement learning. Few ML models such as, non -parametric Baye sian methods (Gaussian \\napproach), are promising, especially in handling small, incrementally growing data sets; however, \\nthey have increased complexity compared to the parametric methods. Further, the Kernel Hilbert \\nSpace -based solutions have shown encoura ging results in generating improved data rate, which is \\n10-100 times higher in comparison to the ones shown in the 5G wireless networks, simultaneously \\nbeing computationally simple and scalable with lower approximation error. Federated Learning (FL)' metadata={'source': 'C:\\\\muskan\\\\IIITA\\\\Deep learning\\\\Chatbot project-Questionpro\\\\A Survey of Machine Learning Algorithms for 6g wirless netwok.pdf', 'page': 1}\n",
      "page_content='8. Safe Reinforcement Learning  \\nSafe R L is the process of learning policies that maximize the expectation of the return in \\nproblems wherein , it is important to ensure reasonable system performance,  safety constraints during \\nlearning and deployment processes.  \\n \\n9. Federated Learning:  \\nFederated learning (FL) is helpful is cases when  it is difficult to assign the ML m odels to \\neach mobile device and d ata center  because in traditional centralized ML algorithms , it is required \\nfor each mobile device to transmit its collected data to the data center for training purpose.  It is \\nimpractical for wireless mobile devices to transmit their local data for tra ining ML models due to' metadata={'source': 'C:\\\\muskan\\\\IIITA\\\\Deep learning\\\\Chatbot project-Questionpro\\\\A Survey of Machine Learning Algorithms for 6g wirless netwok.pdf', 'page': 7}\n",
      "page_content='Marmol, C., Pablo, F.S., Aurora, G.V., Jose, L., Hernandez, R., Jorge, B., Gianmarco B., & Antonio, S. (2021). Evaluating \\nFederated Learning for Intrusion Detection in Internet of Things: Review and Challenges Enrique. arXiv:2108 .00974v1.  \\nMingzhe, C., Deniz, G., Kaibin, H., Walid, S., & Mehdi, B.(2021). Distributed Learning in Wireless Networks: Recent \\nProgress and Future Challenges. IEEE Journal on Selected Areas in Communications , 39(12): 3579 – 3605. DOI: \\n10.1109/JSAC.2021.3118346.  \\nMollah, M.B., Zeadally, S., & Azad, M.A.K. (2019). Emerging wireless technologies for Internet of Things applications:' metadata={'source': 'C:\\\\muskan\\\\IIITA\\\\Deep learning\\\\Chatbot project-Questionpro\\\\A Survey of Machine Learning Algorithms for 6g wirless netwok.pdf', 'page': 14}\n"
     ]
    }
   ],
   "source": [
    "for i in xc['matches']:\n",
    "    doc_id=i['id']\n",
    "    print(chunks[int(doc_id)])\n",
    "##Second one contains the exact answer."
   ]
  }
 ],
 "metadata": {
  "kernelspec": {
   "display_name": "Python 3",
   "language": "python",
   "name": "python3"
  },
  "language_info": {
   "codemirror_mode": {
    "name": "ipython",
    "version": 3
   },
   "file_extension": ".py",
   "mimetype": "text/x-python",
   "name": "python",
   "nbconvert_exporter": "python",
   "pygments_lexer": "ipython3",
   "version": "3.11.5"
  }
 },
 "nbformat": 4,
 "nbformat_minor": 2
}
